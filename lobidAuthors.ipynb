{
 "cells": [
  {
   "cell_type": "code",
   "execution_count": 52,
   "metadata": {},
   "outputs": [],
   "source": [
    "import pandas\n",
    "import requests\n",
    "import csv"
   ]
  },
  {
   "cell_type": "code",
   "execution_count": 120,
   "metadata": {},
   "outputs": [
    {
     "name": "stdout",
     "output_type": "stream",
     "text": [
      "Error making request: 500 Server Error: Internal Server Error for url: https://lobid.org/gnd/search?q=%2A&filter=%0A++++++++%28%0A++++++++++++%28professionOrOccupation.id%3A%22https%3A%2F%2Fd-nb.info%2Fgnd%2F4053311-6%22%29+%0A++++++++++++++++OR%0A++++++++++++%28professionOrOccupation.id%3A%22https%3A%2F%2Fd-nb.info%2Fgnd%2F4053309-8%22%29%0A++++++++%29%0A++++++++%23+%26%28type%3APerson%29%0A++++++++%23+%26%28type%3ADifferentiatedPerson%29%0A++++++++%26%28dateOfBirth%3A%5B1750+TO+1870%5D%29%0A++++&from=24501&size=500&format=json\n"
     ]
    }
   ],
   "source": [
    "def filter_authors():\n",
    "    url = \"https://lobid.org/gnd/search\"\n",
    "    filter_query = \"\"\"\n",
    "        (\n",
    "            (professionOrOccupation.id:\"https://d-nb.info/gnd/4053311-6\") \n",
    "                OR\n",
    "            (professionOrOccupation.id:\"https://d-nb.info/gnd/4053309-8\")\n",
    "        )\n",
    "        # &(type:Person)\n",
    "        # &(type:DifferentiatedPerson)\n",
    "        &(dateOfBirth:[1750 TO 1870])\n",
    "    \"\"\"\n",
    "    params = {\n",
    "        'q': '*',\n",
    "        'filter': filter_query,\n",
    "        'from' : '24501',\n",
    "        'size' : '500',\n",
    "        'format': 'json'\n",
    "    }\n",
    "\n",
    "    try:\n",
    "        response = requests.get(url, params=params)\n",
    "        response.raise_for_status() \n",
    "        data = response.json()\n",
    "        return data\n",
    "    except requests.exceptions.RequestException as e:\n",
    "        print(f\"Error making request: {e}\")\n",
    "        return None\n",
    "    \n",
    "res = filter_authors()\n"
   ]
  },
  {
   "cell_type": "code",
   "execution_count": 118,
   "metadata": {},
   "outputs": [],
   "source": [
    "import csv\n",
    "\n",
    "with open('temp3.csv', 'w', encoding='utf-8', newline='') as csv_file:\n",
    "    # Define CSV column headers\n",
    "    fieldnames = ['GND', 'Nachname', 'Vorname', 'DateOfBirth', 'DateOfDeath', 'Gender', 'Professions', 'VariantNames']\n",
    "    writer = csv.DictWriter(csv_file, fieldnames=fieldnames)\n",
    "\n",
    "    # Write the header row\n",
    "    writer.writeheader()\n",
    "\n",
    "    for member in res['member']:\n",
    "        # Extract fields safely with proper handling for the structure\n",
    "        gnd = \"\".join(member.get('gndIdentifier', ''))\n",
    "        name = member.get('preferredNameEntityForThePerson', {}).get('surname', '')  # For 'Nachname'\n",
    "        vorname = member.get('preferredNameEntityForThePerson', {}).get('forename', '')  # For 'Vorname'\n",
    "        date_of_birth = \", \".join(member.get('dateOfBirth', []))\n",
    "        date_of_death = \", \".join(member.get('dateOfDeath', []))\n",
    "        gender = \", \".join([g['label'] for g in member.get('gender', [])])\n",
    "        professions = \", \".join([p['label'] for p in member.get('professionOrOccupation', [])])\n",
    "        variant_names = \", \".join([\n",
    "            \" \".join(v.get('forename', [])) + \" \" + \n",
    "            \" \".join(v.get('prefix', [])) + \" \" + \n",
    "            \" \".join(v.get('surname', []))\n",
    "            for v in member.get('variantNameEntityForThePerson', [])\n",
    "        ]).strip()\n",
    "\n",
    "        # Write a row for the current member\n",
    "        writer.writerow({\n",
    "            'GND': gnd,\n",
    "            'Nachname': name,\n",
    "            'Vorname': vorname,\n",
    "            'DateOfBirth': date_of_birth,\n",
    "            'DateOfDeath': date_of_death,\n",
    "            'Gender': gender,\n",
    "            'Professions': professions,\n",
    "            'VariantNames': variant_names\n",
    "        })\n"
   ]
  },
  {
   "cell_type": "code",
   "execution_count": 121,
   "metadata": {},
   "outputs": [],
   "source": [
    "import pandas as pd\n",
    "import os\n",
    "folder_path = r'temp'\n",
    "all_files = os.listdir(folder_path)\n",
    "csv_files = [f for f in all_files if f.endswith('.csv')]\n",
    "df_list = []\n",
    "for csv in csv_files:\n",
    "    file_path = os.path.join(folder_path, csv)\n",
    "    try:\n",
    "        df = pd.read_csv(file_path)\n",
    "        df_list.append(df)\n",
    "    except UnicodeDecodeError:\n",
    "        try:\n",
    "            df = pd.read_csv(file_path, sep='\\t', encoding='utf-16')\n",
    "            df_list.append(df)\n",
    "        except Exception as e:\n",
    "            print(f\"Could not read file {csv} because of error: {e}\")\n",
    "    except Exception as e:\n",
    "        print(f\"Could not read file {csv} because of error: {e}\")\n",
    "big_df = pd.concat(df_list, ignore_index=True)\n",
    "big_df.to_csv(os.path.join(folder_path, 'combined_file.csv'), index=False)"
   ]
  }
 ],
 "metadata": {
  "kernelspec": {
   "display_name": "Python 3",
   "language": "python",
   "name": "python3"
  },
  "language_info": {
   "codemirror_mode": {
    "name": "ipython",
    "version": 3
   },
   "file_extension": ".py",
   "mimetype": "text/x-python",
   "name": "python",
   "nbconvert_exporter": "python",
   "pygments_lexer": "ipython3",
   "version": "3.12.4"
  }
 },
 "nbformat": 4,
 "nbformat_minor": 2
}
